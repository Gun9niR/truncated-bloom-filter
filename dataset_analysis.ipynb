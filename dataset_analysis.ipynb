{
 "cells": [
  {
   "cell_type": "code",
   "execution_count": 1,
   "metadata": {},
   "outputs": [
    {
     "name": "stdout",
     "output_type": "stream",
     "text": [
      "Mean number of documents per query:  2.192\n",
      "Median number of documents per query:  1.0\n",
      "Max number of documents per query:  80.0\n",
      "Min number of documents per query:  1.0\n",
      "Mean term count percent:  0.028964112910403926\n"
     ]
    },
    {
     "data": {
      "text/plain": [
       "<Figure size 640x480 with 0 Axes>"
      ]
     },
     "metadata": {},
     "output_type": "display_data"
    }
   ],
   "source": [
    "from dataloader import AmazonLoader\n",
    "import numpy as np\n",
    "\n",
    "# musical instruments\n",
    "dataset = AmazonLoader('data/processed', 'amazon_musical_instruments')\n",
    "\n",
    "k=1\n",
    "\n",
    "dataset.make_pipeline('data/raw/Musical_Instruments_5.json.gz', 5, 250, 1, distribution_type='normmix',\n",
    "                      lower_token_filter=5, upper_token_filter=100, start=5, nmix=5, density_factor=2,\n",
    "                      spread_factor=3.5)\n",
    "\n",
    "def print_stats(dataset):\n",
    "    queries = dataset.read_queries()\n",
    "\n",
    "    corpus = dataset.read_corpus()\n",
    "\n",
    "    doc_intersect_cnts = np.zeros(len(queries))\n",
    "\n",
    "    for i, q in enumerate(queries):\n",
    "        for doc in corpus:\n",
    "            if set(q).intersection(set(doc)) == set(q):\n",
    "                doc_intersect_cnts[i] += 1\n",
    "\n",
    "    print(\"Mean number of documents per query: \", np.mean(doc_intersect_cnts))\n",
    "    print(\"Median number of documents per query: \", np.median(doc_intersect_cnts))\n",
    "    print(\"Max number of documents per query: \", np.max(doc_intersect_cnts))\n",
    "    print(\"Min number of documents per query: \", np.min(doc_intersect_cnts))\n",
    "\n",
    "def avg_docs_query_term_in(dataset):\n",
    "    queries = dataset.read_queries()\n",
    "\n",
    "    corpus = dataset.read_corpus()\n",
    "    \n",
    "    term_counts = []\n",
    "    for i, q in enumerate(queries):\n",
    "        term_to_count = {t: 0 for t in q}\n",
    "        for doc in corpus:\n",
    "            doc = set(doc)\n",
    "            for t in q:\n",
    "                if t in doc:\n",
    "                    term_to_count[t] += 1\n",
    "        term_counts.append({t: c/len(corpus) for t, c in term_to_count.items() if c > 0})\n",
    "    \n",
    "    # compute mean term count percent \n",
    "    mean_term_count_percent = np.mean([np.mean(list(term_to_count.values())) for term_to_count in term_counts])\n",
    "    print(\"Mean term count percent: \", mean_term_count_percent)\n",
    "\n",
    "print_stats(dataset)\n",
    "avg_docs_query_term_in(dataset)"
   ]
  },
  {
   "cell_type": "code",
   "execution_count": 3,
   "metadata": {},
   "outputs": [
    {
     "name": "stdout",
     "output_type": "stream",
     "text": [
      "Mean number of documents per query:  1.416\n",
      "Median number of documents per query:  1.0\n",
      "Max number of documents per query:  10.0\n",
      "Min number of documents per query:  1.0\n",
      "Mean term count percent:  0.028323613267466477\n"
     ]
    },
    {
     "data": {
      "text/plain": [
       "<Figure size 640x480 with 0 Axes>"
      ]
     },
     "metadata": {},
     "output_type": "display_data"
    }
   ],
   "source": [
    "dataset = AmazonLoader('data/processed', 'amazon_industrial_scientific_v3ls')\n",
    "\n",
    "# dataset.make_pipeline('data/raw/Industrial_and_Scientific_5.json.gz', 5, 50, 30, distribution_type='normmix',\n",
    "#                       lower_token_filter=5, upper_token_filter=100, start=0, nmix=5, density_factor=2,\n",
    "#                       spread_factor=2.0)\n",
    "dataset.make_pipeline('data/raw/Industrial_and_Scientific_5.json.gz', 5, 250, 1, distribution_type='normmix',\n",
    "                      lower_token_filter=5, upper_token_filter=100, start=3, nmix=5, density_factor=2,\n",
    "                      spread_factor=3.5)\n",
    "print_stats(dataset)\n",
    "avg_docs_query_term_in(dataset)"
   ]
  }
 ],
 "metadata": {
  "kernelspec": {
   "display_name": "Python 3",
   "language": "python",
   "name": "python3"
  },
  "language_info": {
   "codemirror_mode": {
    "name": "ipython",
    "version": 3
   },
   "file_extension": ".py",
   "mimetype": "text/x-python",
   "name": "python",
   "nbconvert_exporter": "python",
   "pygments_lexer": "ipython3",
   "version": "3.10.4"
  }
 },
 "nbformat": 4,
 "nbformat_minor": 2
}
