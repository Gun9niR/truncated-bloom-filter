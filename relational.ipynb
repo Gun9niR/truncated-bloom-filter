{
 "cells": [
  {
   "cell_type": "markdown",
   "metadata": {},
   "source": [
    "# Real estate\n",
    "Clean and generate queries"
   ]
  },
  {
   "cell_type": "code",
   "execution_count": 1,
   "metadata": {},
   "outputs": [],
   "source": [
    "# imports and method definition cell\n",
    "import pandas as pd\n",
    "import numpy as np\n",
    "import os\n",
    "from relationalquerygeneration import *\n",
    "import pyarrow.parquet as pq\n",
    "import pyarrow as pa\n",
    "import chardet\n",
    "\n",
    "\n",
    "def cleanup(out):\n",
    "    for file in os.listdir(out):\n",
    "        if file.endswith(\".pkl\"):\n",
    "            path_to_file = os.path.join(out, file)\n",
    "            os.remove(path_to_file)\n",
    "    # make sure directory is empty\n",
    "    assert len(os.listdir(out)) <= 1, \"Directory not empty\"\n",
    "\n",
    "# controls k \n",
    "ALPHA = 10"
   ]
  },
  {
   "cell_type": "code",
   "execution_count": 4,
   "metadata": {},
   "outputs": [
    {
     "name": "stderr",
     "output_type": "stream",
     "text": [
      "/var/folders/q7/3yvrc6352t1c2bwlqpsvkzy80000gn/T/ipykernel_38443/440935785.py:1: DtypeWarning: Columns (8,9,10,11,12) have mixed types. Specify dtype option on import or set low_memory=False.\n",
      "  df = pd.read_csv('data/skipping_data_raw/Real_Estate_Sales_2001-2020_GL.csv')\n",
      "/var/folders/q7/3yvrc6352t1c2bwlqpsvkzy80000gn/T/ipykernel_38443/440935785.py:12: FutureWarning: The default value of regex will change from True to False in a future version.\n",
      "  df['Address'] = df['Address'].str.replace('[^a-zA-Z\\s]', '')\n"
     ]
    },
    {
     "name": "stdout",
     "output_type": "stream",
     "text": [
      "Number of rows remaining: 997162\n",
      "Number of unique streets: 99752\n",
      "Number of unique towns: 170\n"
     ]
    },
    {
     "data": {
      "text/html": [
       "<div>\n",
       "<style scoped>\n",
       "    .dataframe tbody tr th:only-of-type {\n",
       "        vertical-align: middle;\n",
       "    }\n",
       "\n",
       "    .dataframe tbody tr th {\n",
       "        vertical-align: top;\n",
       "    }\n",
       "\n",
       "    .dataframe thead th {\n",
       "        text-align: right;\n",
       "    }\n",
       "</style>\n",
       "<table border=\"1\" class=\"dataframe\">\n",
       "  <thead>\n",
       "    <tr style=\"text-align: right;\">\n",
       "      <th></th>\n",
       "      <th>List Year</th>\n",
       "      <th>Town</th>\n",
       "      <th>Address</th>\n",
       "    </tr>\n",
       "  </thead>\n",
       "  <tbody>\n",
       "    <tr>\n",
       "      <th>0</th>\n",
       "      <td>2020</td>\n",
       "      <td>Ansonia</td>\n",
       "      <td>WAKELEE AVE</td>\n",
       "    </tr>\n",
       "    <tr>\n",
       "      <th>1</th>\n",
       "      <td>2020</td>\n",
       "      <td>Middletown</td>\n",
       "      <td>YELLOW ORANGE CIRCLE</td>\n",
       "    </tr>\n",
       "    <tr>\n",
       "      <th>2</th>\n",
       "      <td>2020</td>\n",
       "      <td>Plymouth</td>\n",
       "      <td>HOYE ST</td>\n",
       "    </tr>\n",
       "    <tr>\n",
       "      <th>3</th>\n",
       "      <td>2020</td>\n",
       "      <td>Middletown</td>\n",
       "      <td>INTOWN TERR</td>\n",
       "    </tr>\n",
       "    <tr>\n",
       "      <th>4</th>\n",
       "      <td>2020</td>\n",
       "      <td>Old Saybrook</td>\n",
       "      <td>CAPTAINS LA</td>\n",
       "    </tr>\n",
       "  </tbody>\n",
       "</table>\n",
       "</div>"
      ],
      "text/plain": [
       "   List Year          Town               Address\n",
       "0       2020       Ansonia           WAKELEE AVE\n",
       "1       2020    Middletown  YELLOW ORANGE CIRCLE\n",
       "2       2020      Plymouth               HOYE ST\n",
       "3       2020    Middletown           INTOWN TERR\n",
       "4       2020  Old Saybrook           CAPTAINS LA"
      ]
     },
     "execution_count": 4,
     "metadata": {},
     "output_type": "execute_result"
    }
   ],
   "source": [
    "df = pd.read_csv('data/skipping_data_raw/Real_Estate_Sales_2001-2020_GL.csv')\n",
    "\n",
    "# drop all columns besides List Year, Town\n",
    "# df = df[['List Year', 'Town', 'Address', 'Assessed Value', 'Sale Amount']]\n",
    "df = df[['List Year', 'Town', 'Address']]\n",
    "\n",
    "\n",
    "# drop all rows with missing values\n",
    "df = df.dropna()\n",
    "\n",
    "# remove non alphabetic characters except spaces\n",
    "df['Address'] = df['Address'].str.replace('[^a-zA-Z\\s]', '')\n",
    "\n",
    "# remove leading and trailing spaces\n",
    "df['Address'] = df['Address'].str.strip()\n",
    "\n",
    "print(\"Number of rows remaining: \" + str(len(df.index)))\n",
    "print(\"Number of unique streets: \" + str(len(df['Address'].unique())))\n",
    "print(\"Number of unique towns: \" + str(len(df['Town'].unique())))\n",
    "\n",
    "# sort by year\n",
    "df = df.sort_values(by=['List Year'], ascending=False)\n",
    "\n",
    "# base = 1.25\n",
    "\n",
    "# df['utility'] = base**(df['List Year'] - df['List Year'].min()+1.0) + np.random.uniform(0, 10, len(df.index))   \n",
    "\n",
    "# # sort df by utility\n",
    "# df = df.sort_values(by=['utility'], ascending=False)\n",
    "# # reset index\n",
    "# df = df.reset_index(drop=True)\n",
    "\n",
    "# # remove spaces in column names\n",
    "# df.columns = df.columns.str.replace(' ', '')\n",
    "df = df.reset_index(drop=True)\n",
    "df.head()"
   ]
  },
  {
   "cell_type": "code",
   "execution_count": 5,
   "metadata": {},
   "outputs": [
    {
     "data": {
      "text/plain": [
       "Town        Address           \n",
       "Southbury   A HERITAGE VILLAGE    690\n",
       "            B HERITAGE VILLAGE    664\n",
       "            B HERITAGE VLG        644\n",
       "            A HERITAGE VLG        622\n",
       "Vernon      OLD TOWN RD           488\n",
       "                                 ... \n",
       "Bridgeport  LANCE CIRCLE           45\n",
       "Waterbury   STODDARD RD            45\n",
       "Cheshire    HARRISON RD            45\n",
       "Suffield    HALLADAY DR            45\n",
       "Plainville  WILLIAMS ST            45\n",
       "Length: 3000, dtype: int64"
      ]
     },
     "execution_count": 5,
     "metadata": {},
     "output_type": "execute_result"
    }
   ],
   "source": [
    "start=0\n",
    "df.groupby(['Town',\t'Address']).size().sort_values(ascending=False).iloc[start:start+3000]"
   ]
  },
  {
   "cell_type": "code",
   "execution_count": 6,
   "metadata": {},
   "outputs": [
    {
     "name": "stdout",
     "output_type": "stream",
     "text": [
      "k: 22\n"
     ]
    }
   ],
   "source": [
    "k = int(45/2)\n",
    "print('k:', k)"
   ]
  },
  {
   "cell_type": "code",
   "execution_count": 7,
   "metadata": {},
   "outputs": [
    {
     "name": "stdout",
     "output_type": "stream",
     "text": [
      "Generated 2500 queries\n",
      "Average position: 0.3031235378002772\n",
      "Max position: 0.9107527162086\n"
     ]
    },
    {
     "data": {
      "image/png": "[encoded data removed]",
      "text/plain": [
       "<Figure size 640x480 with 1 Axes>"
      ]
     },
     "metadata": {},
     "output_type": "display_data"
    }
   ],
   "source": [
    "n_queries = 2500\n",
    "\n",
    "df_no_listyr  = df.drop(columns=['List Year'])\n",
    "\n",
    "rg = RelationalGeneratorAccessFreq(df_no_listyr)\n",
    "\n",
    "cat_columns = ['Town', 'Address']\n",
    "\n",
    "out = \"data/access_frequency_skipping_data/Real_Estate/queries\"\n",
    "\n",
    "cleanup(out)\n",
    "\n",
    "# rg.generate_queries(cat_columns, k, n_queries, out, 0.5, 0.4)\n",
    "access_frequencies = rg.generate_queries(cat_columns, k, n_queries, out, 0.6, 0.5, start = start)"
   ]
  },
  {
   "cell_type": "code",
   "execution_count": 8,
   "metadata": {},
   "outputs": [
    {
     "data": {
      "text/plain": [
       "[<matplotlib.lines.Line2D at 0x165957880>]"
      ]
     },
     "execution_count": 8,
     "metadata": {},
     "output_type": "execute_result"
    },
    {
     "data": {
      "image/png": "[encoded data removed]",
      "text/plain": [
       "<Figure size 640x480 with 1 Axes>"
      ]
     },
     "metadata": {},
     "output_type": "display_data"
    }
   ],
   "source": [
    "plt.plot(access_frequencies)"
   ]
  },
  {
   "cell_type": "code",
   "execution_count": 9,
   "metadata": {},
   "outputs": [],
   "source": [
    "np.save('data/access_frequency_skipping_data/Real_Estate/utilities/utilities.npy', access_frequencies)"
   ]
  },
  {
   "cell_type": "code",
   "execution_count": 10,
   "metadata": {},
   "outputs": [],
   "source": [
    "# rg_size = 500\n",
    "# rg_size = 2500\n",
    "rg_size = 2000\n",
    "# rg_size = 1000\n",
    "\n",
    "df = df.drop(columns=['List Year'])\n",
    "\n",
    "# write to parquet with row group size rg_size\n",
    "pq.write_table(pa.Table.from_pandas(df), 'data/access_frequency_skipping_data/Real_Estate/parquet/Real_Estate_Sales_2001-2020.parquet', row_group_size=rg_size)"
   ]
  },
  {
   "cell_type": "markdown",
   "metadata": {},
   "source": [
    "# Electric vehicles\n",
    "Clean and generate queries\n"
   ]
  },
  {
   "cell_type": "code",
   "execution_count": 23,
   "metadata": {},
   "outputs": [
    {
     "data": {
      "text/html": [
       "<div>\n",
       "<style scoped>\n",
       "    .dataframe tbody tr th:only-of-type {\n",
       "        vertical-align: middle;\n",
       "    }\n",
       "\n",
       "    .dataframe tbody tr th {\n",
       "        vertical-align: top;\n",
       "    }\n",
       "\n",
       "    .dataframe thead th {\n",
       "        text-align: right;\n",
       "    }\n",
       "</style>\n",
       "<table border=\"1\" class=\"dataframe\">\n",
       "  <thead>\n",
       "    <tr style=\"text-align: right;\">\n",
       "      <th></th>\n",
       "      <th>County</th>\n",
       "      <th>City</th>\n",
       "      <th>Postal Code</th>\n",
       "      <th>Model Year</th>\n",
       "      <th>Make</th>\n",
       "      <th>Model</th>\n",
       "      <th>Legislative District</th>\n",
       "    </tr>\n",
       "  </thead>\n",
       "  <tbody>\n",
       "    <tr>\n",
       "      <th>0</th>\n",
       "      <td>Spokane</td>\n",
       "      <td>Spokane</td>\n",
       "      <td>99205</td>\n",
       "      <td>2024</td>\n",
       "      <td>JEEP</td>\n",
       "      <td>WRANGLER</td>\n",
       "      <td>3</td>\n",
       "    </tr>\n",
       "    <tr>\n",
       "      <th>1</th>\n",
       "      <td>King</td>\n",
       "      <td>Snoqualmie</td>\n",
       "      <td>98065</td>\n",
       "      <td>2024</td>\n",
       "      <td>MAZDA</td>\n",
       "      <td>CX-90</td>\n",
       "      <td>5</td>\n",
       "    </tr>\n",
       "    <tr>\n",
       "      <th>2</th>\n",
       "      <td>King</td>\n",
       "      <td>Seattle</td>\n",
       "      <td>98103</td>\n",
       "      <td>2024</td>\n",
       "      <td>VOLVO</td>\n",
       "      <td>XC60</td>\n",
       "      <td>43</td>\n",
       "    </tr>\n",
       "    <tr>\n",
       "      <th>3</th>\n",
       "      <td>Chelan</td>\n",
       "      <td>Manson</td>\n",
       "      <td>98831</td>\n",
       "      <td>2024</td>\n",
       "      <td>BMW</td>\n",
       "      <td>X5</td>\n",
       "      <td>12</td>\n",
       "    </tr>\n",
       "    <tr>\n",
       "      <th>4</th>\n",
       "      <td>Pierce</td>\n",
       "      <td>Auburn</td>\n",
       "      <td>98092</td>\n",
       "      <td>2024</td>\n",
       "      <td>JEEP</td>\n",
       "      <td>WRANGLER</td>\n",
       "      <td>31</td>\n",
       "    </tr>\n",
       "  </tbody>\n",
       "</table>\n",
       "</div>"
      ],
      "text/plain": [
       "    County        City Postal Code  Model Year   Make     Model  \\\n",
       "0  Spokane     Spokane       99205        2024   JEEP  WRANGLER   \n",
       "1     King  Snoqualmie       98065        2024  MAZDA     CX-90   \n",
       "2     King     Seattle       98103        2024  VOLVO      XC60   \n",
       "3   Chelan      Manson       98831        2024    BMW        X5   \n",
       "4   Pierce      Auburn       98092        2024   JEEP  WRANGLER   \n",
       "\n",
       "  Legislative District  \n",
       "0                    3  \n",
       "1                    5  \n",
       "2                   43  \n",
       "3                   12  \n",
       "4                   31  "
      ]
     },
     "execution_count": 23,
     "metadata": {},
     "output_type": "execute_result"
    }
   ],
   "source": [
    "df = pd.read_csv('data/skipping_data_raw/Electric_Vehicle_Population_Data.csv')\n",
    "\n",
    "df = df[['County', 'City', 'Postal Code', 'Model Year' ,'Make','Model', 'Legislative District']]\n",
    "\n",
    "df = df.dropna()\n",
    "\n",
    "# sort by model year\n",
    "df = df.sort_values(by=['Model Year'], ascending=False)\n",
    "\n",
    "# base = 1.18\n",
    "\n",
    "# df['utility'] = base**(df['Model Year'] - df['Model Year'].min()+1.0) + np.random.uniform(0, 10, len(df.index))\n",
    "\n",
    "# # sort df by utility\n",
    "# df = df.sort_values(by=['utility'], ascending=False)\n",
    "\n",
    "# # reset index\n",
    "df = df.reset_index(drop=True)\n",
    "\n",
    "df['Legislative District'] = df['Legislative District'].astype(int).astype(str)\n",
    "df['Postal Code'] = df['Postal Code'].astype(int).astype(str)\n",
    "\n",
    "df.head()"
   ]
  },
  {
   "cell_type": "code",
   "execution_count": 26,
   "metadata": {},
   "outputs": [],
   "source": [
    "# # remove whitespaces frmo column names\n",
    "\n",
    "start = 0\n",
    "k = int(10//2)\n",
    "print('k:', k)\n",
    "df.groupby(['County', 'City', 'Postal Code', 'Model Year' ,'Make','Model', 'Legislative District']).size().sort_values(ascending=False).iloc[start:start+2500]\n",
    "\n",
    "df.columns = df.columns.str.replace(' ', '')\n",
    "\n",
    "# k = 10\n",
    "n_queries = 2500\n",
    "\n",
    "df_no_modelyr  = df.drop(columns=['ModelYear'])\n",
    "\n"
   ]
  },
  {
   "cell_type": "code",
   "execution_count": 27,
   "metadata": {},
   "outputs": [
    {
     "name": "stdout",
     "output_type": "stream",
     "text": [
      "Generated 2500 queries\n",
      "Average position: 0.29375923805776055\n",
      "Max position: 0.9861470637062907\n"
     ]
    },
    {
     "data": {
      "image/png": "[encoded data removed]",
      "text/plain": [
       "<Figure size 640x480 with 1 Axes>"
      ]
     },
     "metadata": {},
     "output_type": "display_data"
    }
   ],
   "source": [
    "cat_columns = ['County', 'City', 'PostalCode', 'Make', 'Model', 'LegislativeDistrict']\n",
    "\n",
    "out = \"data/access_frequency_skipping_data/Electric_Vehicles/queries\"\n",
    "\n",
    "cleanup(out)\n",
    "\n",
    "rg = RelationalGeneratorAccessFreq(df_no_modelyr)\n",
    "\n",
    "# rg.generate_queries(cat_columns, k, n_queries, out, 0.5, 0.4)\n",
    "access_frequencies = rg.generate_queries(cat_columns, k, n_queries, out, 0.6, 0.5, start=start)"
   ]
  },
  {
   "cell_type": "code",
   "execution_count": 28,
   "metadata": {},
   "outputs": [
    {
     "data": {
      "text/plain": [
       "[<matplotlib.lines.Line2D at 0x166f7aaa0>]"
      ]
     },
     "execution_count": 28,
     "metadata": {},
     "output_type": "execute_result"
    },
    {
     "data": {
      "image/png": "[encoded data removed]",
      "text/plain": [
       "<Figure size 640x480 with 1 Axes>"
      ]
     },
     "metadata": {},
     "output_type": "display_data"
    }
   ],
   "source": [
    "plt.plot(access_frequencies)"
   ]
  },
  {
   "cell_type": "code",
   "execution_count": 29,
   "metadata": {},
   "outputs": [],
   "source": [
    "np.save('data/access_frequency_skipping_data/Electric_Vehicles/utilities/utilities.npy', access_frequencies)"
   ]
  },
  {
   "cell_type": "code",
   "execution_count": 30,
   "metadata": {},
   "outputs": [],
   "source": [
    "rg_size = 350\n",
    "\n",
    "# remove utility and modelyear columns\n",
    "df = df.drop(columns=['ModelYear'])\n",
    "\n",
    "# write to parquet with row group size rg_size\n",
    "pq.write_table(pa.Table.from_pandas(df), 'data/access_frequency_skipping_data/Electric_Vehicles/parquet/Electric_Vehicle_Population_Data.parquet', row_group_size=rg_size)\n"
   ]
  },
  {
   "cell_type": "markdown",
   "metadata": {},
   "source": [
    "# NASA HTTP logs\n",
    "Cleaning and query generation"
   ]
  },
  {
   "cell_type": "code",
   "execution_count": 31,
   "metadata": {},
   "outputs": [
    {
     "name": "stdout",
     "output_type": "stream",
     "text": [
      "Line 613123 not added in file data/skipping_data_raw/NASA_access_log_Aug95\n",
      "Line 613508 not added in file data/skipping_data_raw/NASA_access_log_Aug95\n",
      "Line 829742 not added in file data/skipping_data_raw/NASA_access_log_Aug95\n",
      "Line 1437373 not added in file data/skipping_data_raw/NASA_access_log_Aug95\n",
      "Line 1516936 not added in file data/skipping_data_raw/NASA_access_log_Aug95\n",
      "Line 1530211 not added in file data/skipping_data_raw/NASA_access_log_Aug95\n",
      "Line 1538760 not added in file data/skipping_data_raw/NASA_access_log_Aug95\n",
      "Line 118894 not added in file data/skipping_data_raw/NASA_access_log_Jul95\n",
      "Line 118895 not added in file data/skipping_data_raw/NASA_access_log_Jul95\n",
      "Line 550847 not added in file data/skipping_data_raw/NASA_access_log_Jul95\n",
      "Line 1031344 not added in file data/skipping_data_raw/NASA_access_log_Jul95\n",
      "Line 1352887 not added in file data/skipping_data_raw/NASA_access_log_Jul95\n",
      "Line 1453988 not added in file data/skipping_data_raw/NASA_access_log_Jul95\n",
      "Line 1498504 not added in file data/skipping_data_raw/NASA_access_log_Jul95\n",
      "Line 1649383 not added in file data/skipping_data_raw/NASA_access_log_Jul95\n"
     ]
    }
   ],
   "source": [
    "raw_nasa_files = ['data/skipping_data_raw/NASA_access_log_Aug95', 'data/skipping_data_raw/NASA_access_log_Jul95']\n",
    "\n",
    "# detect encoding of files on first 1000 lines\n",
    "encoding_types = []\n",
    "for file in raw_nasa_files:\n",
    "    with open(file, 'rb') as f:\n",
    "        result = chardet.detect(f.read(10000))\n",
    "        encoding_types.append(result['encoding'])\n",
    "    \n",
    "assert encoding_types[0] == encoding_types[1], \"Files have different encodings\"\n",
    "\n",
    "# read in files with detected encoding\n",
    "lines = []\n",
    "for file in raw_nasa_files:\n",
    "    i = 0\n",
    "    with open(file, encoding=encoding_types[0]) as f:\n",
    "        while True:\n",
    "            try:\n",
    "                line = f.readline()\n",
    "                if not line:\n",
    "                    break\n",
    "                lines.append(line)\n",
    "            except:\n",
    "                print(\"Line {} not added in file {}\".format(i, file))\n",
    "            i += 1"
   ]
  },
  {
   "cell_type": "code",
   "execution_count": 32,
   "metadata": {},
   "outputs": [
    {
     "name": "stdout",
     "output_type": "stream",
     "text": [
      "Number of rows original: 3460463\n",
      "Number of rows remaining: 3452337\n"
     ]
    }
   ],
   "source": [
    "# split lines into columns\n",
    "lines = [line.split(' ') for line in lines]\n",
    "# create pandas dataframe from lines\n",
    "print(\"Number of rows original: \" + str(len(lines)))\n",
    "lines = [line for line in lines if len(line) == 10]\n",
    "print(\"Number of rows remaining: \" + str(len(lines)))\n",
    "df = pd.DataFrame(lines, columns=['Host', 'Junk1', 'Junk2', 'Timestamp', 'Junk3', 'RequestType', 'Asset', 'Junk4', 'Junk5', 'Junk6'])"
   ]
  },
  {
   "cell_type": "code",
   "execution_count": 33,
   "metadata": {},
   "outputs": [
    {
     "name": "stderr",
     "output_type": "stream",
     "text": [
      "/var/folders/q7/3yvrc6352t1c2bwlqpsvkzy80000gn/T/ipykernel_38443/554104093.py:5: FutureWarning: The default value of regex will change from True to False in a future version. In addition, single character regular expressions will *not* be treated as literal strings when regex=True.\n",
      "  df['Timestamp'] = df['Timestamp'].str.replace('[', '')\n"
     ]
    },
    {
     "data": {
      "text/html": [
       "<div>\n",
       "<style scoped>\n",
       "    .dataframe tbody tr th:only-of-type {\n",
       "        vertical-align: middle;\n",
       "    }\n",
       "\n",
       "    .dataframe tbody tr th {\n",
       "        vertical-align: top;\n",
       "    }\n",
       "\n",
       "    .dataframe thead th {\n",
       "        text-align: right;\n",
       "    }\n",
       "</style>\n",
       "<table border=\"1\" class=\"dataframe\">\n",
       "  <thead>\n",
       "    <tr style=\"text-align: right;\">\n",
       "      <th></th>\n",
       "      <th>Host</th>\n",
       "      <th>Timestamp</th>\n",
       "      <th>Asset</th>\n",
       "    </tr>\n",
       "  </thead>\n",
       "  <tbody>\n",
       "    <tr>\n",
       "      <th>0</th>\n",
       "      <td>in24.inetnebr.com</td>\n",
       "      <td>1995-08-01 00:00:01</td>\n",
       "      <td>/shuttle/missions/sts-68/news/sts-68-mcc-05.txt</td>\n",
       "    </tr>\n",
       "    <tr>\n",
       "      <th>1</th>\n",
       "      <td>uplherc.upl.com</td>\n",
       "      <td>1995-08-01 00:00:07</td>\n",
       "      <td>/</td>\n",
       "    </tr>\n",
       "    <tr>\n",
       "      <th>2</th>\n",
       "      <td>uplherc.upl.com</td>\n",
       "      <td>1995-08-01 00:00:08</td>\n",
       "      <td>/images/ksclogo-medium.gif</td>\n",
       "    </tr>\n",
       "    <tr>\n",
       "      <th>3</th>\n",
       "      <td>uplherc.upl.com</td>\n",
       "      <td>1995-08-01 00:00:08</td>\n",
       "      <td>/images/MOSAIC-logosmall.gif</td>\n",
       "    </tr>\n",
       "    <tr>\n",
       "      <th>4</th>\n",
       "      <td>uplherc.upl.com</td>\n",
       "      <td>1995-08-01 00:00:08</td>\n",
       "      <td>/images/USA-logosmall.gif</td>\n",
       "    </tr>\n",
       "  </tbody>\n",
       "</table>\n",
       "</div>"
      ],
      "text/plain": [
       "                Host           Timestamp  \\\n",
       "0  in24.inetnebr.com 1995-08-01 00:00:01   \n",
       "1    uplherc.upl.com 1995-08-01 00:00:07   \n",
       "2    uplherc.upl.com 1995-08-01 00:00:08   \n",
       "3    uplherc.upl.com 1995-08-01 00:00:08   \n",
       "4    uplherc.upl.com 1995-08-01 00:00:08   \n",
       "\n",
       "                                             Asset  \n",
       "0  /shuttle/missions/sts-68/news/sts-68-mcc-05.txt  \n",
       "1                                                /  \n",
       "2                       /images/ksclogo-medium.gif  \n",
       "3                     /images/MOSAIC-logosmall.gif  \n",
       "4                        /images/USA-logosmall.gif  "
      ]
     },
     "execution_count": 33,
     "metadata": {},
     "output_type": "execute_result"
    }
   ],
   "source": [
    "# drop rows with missing values\n",
    "df = df.dropna()\n",
    "\n",
    "# remove brackets from timestamp and convert to datetime\n",
    "df['Timestamp'] = df['Timestamp'].str.replace('[', '')\n",
    "df['Timestamp'] = pd.to_datetime(df['Timestamp'], format='%d/%b/%Y:%H:%M:%S')\n",
    "\n",
    "# remove quote from request type\n",
    "df['RequestType'] = df['RequestType'].str.replace('\"', '')\n",
    "\n",
    "# remove all columns with name starting with Junk\n",
    "df = df[df.columns.drop(list(df.filter(regex='Junk')))]\n",
    "# drop request type column\n",
    "df = df.drop(columns=['RequestType'])\n",
    "\n",
    "df.head()"
   ]
  },
  {
   "cell_type": "code",
   "execution_count": 40,
   "metadata": {},
   "outputs": [
    {
     "name": "stdout",
     "output_type": "stream",
     "text": [
      "k: 12\n"
     ]
    },
    {
     "data": {
      "text/plain": [
       "Asset\n",
       "/images/NASA-logosmall.gif                    208275\n",
       "/images/KSC-logosmall.gif                     164757\n",
       "/images/MOSAIC-logosmall.gif                  127600\n",
       "/images/USA-logosmall.gif                     126760\n",
       "/images/WORLD-logosmall.gif                   125615\n",
       "                                               ...  \n",
       "/payloads/schedules/pics/test/hsfacgse.art        19\n",
       "/cgi-bin/imagemap/countdown69?65,155              19\n",
       "/cgi-bin/imagemap/countdown69?284,287             19\n",
       "/cgi-bin/imagemap/countdown70?59,217              19\n",
       "/software/winvn/userguide/winvn24.gif             19\n",
       "Length: 3000, dtype: int64"
      ]
     },
     "execution_count": 40,
     "metadata": {},
     "output_type": "execute_result"
    }
   ],
   "source": [
    "# check grouoby of host and asset\n",
    "start = 0\n",
    "k = int(19/2)\n",
    "print('k:', k)\n",
    "df.groupby(['Asset']).size().sort_values(ascending=False).iloc[start:start+3000]"
   ]
  },
  {
   "cell_type": "code",
   "execution_count": 36,
   "metadata": {},
   "outputs": [],
   "source": [
    "# # generate utilities\n",
    "# base = 1.075\n",
    "# df['utility'] = base**((df['Timestamp'] - df['Timestamp'].min()).dt.days+1.0) + np.random.uniform(0, 10, len(df.index))\n",
    "\n",
    "\n",
    "# sort df by utility\n",
    "df = df.sort_values(by=['Timestamp'], ascending=False)\n",
    "\n",
    "# reset index\n",
    "df = df.reset_index(drop=True)\n",
    "\n",
    "df_no_timestamp  = df.drop(columns=['Timestamp', 'Host'])"
   ]
  },
  {
   "cell_type": "code",
   "execution_count": 42,
   "metadata": {},
   "outputs": [],
   "source": [
    "# k = 100\n",
    "n_queries = 2500\n",
    "\n",
    "cat_columns = ['Asset']\n",
    "\n",
    "out = \"data/access_frequency_skipping_data/NASA/queries\""
   ]
  },
  {
   "cell_type": "code",
   "execution_count": 44,
   "metadata": {},
   "outputs": [
    {
     "name": "stdout",
     "output_type": "stream",
     "text": [
      "Generated 2500 queries\n",
      "Average position: 0.1818925545217631\n",
      "Max position: 0.947067739910675\n"
     ]
    },
    {
     "data": {
      "image/png": "[encoded data removed]",
      "text/plain": [
       "<Figure size 640x480 with 1 Axes>"
      ]
     },
     "metadata": {},
     "output_type": "display_data"
    }
   ],
   "source": [
    "cleanup(out)\n",
    "rg = RelationalGeneratorAccessFreq(df_no_timestamp)\n",
    "\n",
    "# rg.generate_queries(cat_columns, k, n_queries, out, 0.5, 0.4, start = 100)\n",
    "access_frequencies = rg.generate_queries(cat_columns, k, n_queries, out, 0.6, 0.5, start = start)"
   ]
  },
  {
   "cell_type": "code",
   "execution_count": 45,
   "metadata": {},
   "outputs": [
    {
     "data": {
      "text/plain": [
       "[<matplotlib.lines.Line2D at 0x2aaf6e050>]"
      ]
     },
     "execution_count": 45,
     "metadata": {},
     "output_type": "execute_result"
    },
    {
     "data": {
      "image/png": "[encoded data removed]",
      "text/plain": [
       "<Figure size 640x480 with 1 Axes>"
      ]
     },
     "metadata": {},
     "output_type": "display_data"
    }
   ],
   "source": [
    "plt.plot(access_frequencies)"
   ]
  },
  {
   "cell_type": "code",
   "execution_count": 46,
   "metadata": {},
   "outputs": [],
   "source": [
    "rg_size = 2500\n",
    "\n",
    "np.save('data/access_frequency_skipping_data/NASA/utilities/utilities.npy', access_frequencies)\n",
    "\n",
    "# remove utility and timestamp columns\n",
    "df = df.drop(columns=[ 'Timestamp', 'Host'])\n",
    "\n",
    "# write to parquet with row group size rg_size\n",
    "pq.write_table(pa.Table.from_pandas(df), 'data/access_frequency_skipping_data/NASA/parquet/NASA.parquet', row_group_size=rg_size)"
   ]
  },
  {
   "cell_type": "code",
   "execution_count": 47,
   "metadata": {},
   "outputs": [
    {
     "name": "stdout",
     "output_type": "stream",
     "text": [
      "Number of columns in Real_Estate_Sales_2001-2020.parquet: 2\n",
      "Number of rows in Real_Estate_Sales_2001-2020.parquet: 997162\n",
      "Number of columns in Electric_Vehicle_Population_Data.parquet: 6\n",
      "Number of rows in Electric_Vehicle_Population_Data.parquet: 162637\n",
      "Number of columns in Nasa.parquet: 1\n",
      "Number of rows in Nasa.parquet: 3452337\n"
     ]
    }
   ],
   "source": [
    "# load in the parquet file for each dataset and check the number of columns and row groups\n",
    "# for each dataset\n",
    "for path in ['data/skipping_data_processed/Real_Estate/parquet/Real_Estate_Sales_2001-2020.parquet', 'data/skipping_data_processed/Electric_Vehicles/parquet/Electric_Vehicle_Population_Data.parquet', 'data/skipping_data_processed/Nasa/parquet/Nasa.parquet']:\n",
    "    # read in parquet file\n",
    "    table = pq.read_table(path)\n",
    "    # get number of columns\n",
    "    print(\"Number of columns in {}: {}\".format(path.split('/')[-1], table.num_columns))\n",
    "    print(\"Number of rows in {}: {}\".format(path.split('/')[-1], table.num_rows))"
   ]
  }
 ],
 "metadata": {
  "kernelspec": {
   "display_name": "Python 3",
   "language": "python",
   "name": "python3"
  },
  "language_info": {
   "codemirror_mode": {
    "name": "ipython",
    "version": 3
   },
   "file_extension": ".py",
   "mimetype": "text/x-python",
   "name": "python",
   "nbconvert_exporter": "python",
   "pygments_lexer": "ipython3",
   "version": "3.10.0"
  }
 },
 "nbformat": 4,
 "nbformat_minor": 2
}
