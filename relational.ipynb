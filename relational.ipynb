{
 "cells": [
  {
   "cell_type": "markdown",
   "metadata": {},
   "source": [
    "# Real estate\n",
    "Clean and generate queries"
   ]
  },
  {
   "cell_type": "code",
   "execution_count": 1,
   "metadata": {},
   "outputs": [],
   "source": [
    "# imports and method definition cell\n",
    "import pandas as pd\n",
    "import numpy as np\n",
    "import os\n",
    "from relationalquerygeneration import *\n",
    "import pyarrow.parquet as pq\n",
    "import pyarrow as pa\n",
    "import chardet\n",
    "\n",
    "\n",
    "def cleanup(out):\n",
    "    for file in os.listdir(out):\n",
    "        if file.endswith(\".pkl\"):\n",
    "            path_to_file = os.path.join(out, file)\n",
    "            os.remove(path_to_file)\n",
    "    # make sure directory is empty\n",
    "    assert len(os.listdir(out)) <= 1, \"Directory not empty\"\n",
    "\n",
    "# controls k \n",
    "ALPHA = 10"
   ]
  },
  {
   "cell_type": "code",
   "execution_count": 2,
   "metadata": {},
   "outputs": [
    {
     "name": "stderr",
     "output_type": "stream",
     "text": [
      "/var/folders/q7/3yvrc6352t1c2bwlqpsvkzy80000gn/T/ipykernel_89653/3337347582.py:1: DtypeWarning: Columns (8,9,10,11,12) have mixed types. Specify dtype option on import or set low_memory=False.\n",
      "  df = pd.read_csv('data/skipping_data_raw/Real_Estate_Sales_2001-2020_GL.csv')\n",
      "/var/folders/q7/3yvrc6352t1c2bwlqpsvkzy80000gn/T/ipykernel_89653/3337347582.py:12: FutureWarning: The default value of regex will change from True to False in a future version.\n",
      "  df['Address'] = df['Address'].str.replace('[^a-zA-Z\\s]', '')\n"
     ]
    },
    {
     "name": "stdout",
     "output_type": "stream",
     "text": [
      "Number of rows remaining: 997162\n",
      "Number of unique streets: 99752\n",
      "Number of unique towns: 170\n"
     ]
    },
    {
     "data": {
      "text/html": [
       "<div>\n",
       "<style scoped>\n",
       "    .dataframe tbody tr th:only-of-type {\n",
       "        vertical-align: middle;\n",
       "    }\n",
       "\n",
       "    .dataframe tbody tr th {\n",
       "        vertical-align: top;\n",
       "    }\n",
       "\n",
       "    .dataframe thead th {\n",
       "        text-align: right;\n",
       "    }\n",
       "</style>\n",
       "<table border=\"1\" class=\"dataframe\">\n",
       "  <thead>\n",
       "    <tr style=\"text-align: right;\">\n",
       "      <th></th>\n",
       "      <th>ListYear</th>\n",
       "      <th>Town</th>\n",
       "      <th>Address</th>\n",
       "      <th>utility</th>\n",
       "    </tr>\n",
       "  </thead>\n",
       "  <tbody>\n",
       "    <tr>\n",
       "      <th>0</th>\n",
       "      <td>2020</td>\n",
       "      <td>Manchester</td>\n",
       "      <td>CASTLE HILL</td>\n",
       "      <td>96.736141</td>\n",
       "    </tr>\n",
       "    <tr>\n",
       "      <th>1</th>\n",
       "      <td>2020</td>\n",
       "      <td>Glastonbury</td>\n",
       "      <td>OXBOW DR B</td>\n",
       "      <td>96.735948</td>\n",
       "    </tr>\n",
       "    <tr>\n",
       "      <th>2</th>\n",
       "      <td>2020</td>\n",
       "      <td>Cornwall</td>\n",
       "      <td>KENT RD</td>\n",
       "      <td>96.735718</td>\n",
       "    </tr>\n",
       "    <tr>\n",
       "      <th>3</th>\n",
       "      <td>2020</td>\n",
       "      <td>Greenwich</td>\n",
       "      <td>NORTHWAY</td>\n",
       "      <td>96.735601</td>\n",
       "    </tr>\n",
       "    <tr>\n",
       "      <th>4</th>\n",
       "      <td>2020</td>\n",
       "      <td>Granby</td>\n",
       "      <td>FERN HOLLOW DR</td>\n",
       "      <td>96.735535</td>\n",
       "    </tr>\n",
       "  </tbody>\n",
       "</table>\n",
       "</div>"
      ],
      "text/plain": [
       "   ListYear         Town         Address    utility\n",
       "0      2020   Manchester     CASTLE HILL  96.736141\n",
       "1      2020  Glastonbury      OXBOW DR B  96.735948\n",
       "2      2020     Cornwall         KENT RD  96.735718\n",
       "3      2020    Greenwich        NORTHWAY  96.735601\n",
       "4      2020       Granby  FERN HOLLOW DR  96.735535"
      ]
     },
     "execution_count": 2,
     "metadata": {},
     "output_type": "execute_result"
    }
   ],
   "source": [
    "df = pd.read_csv('data/skipping_data_raw/Real_Estate_Sales_2001-2020_GL.csv')\n",
    "\n",
    "# drop all columns besides List Year, Town\n",
    "# df = df[['List Year', 'Town', 'Address', 'Assessed Value', 'Sale Amount']]\n",
    "df = df[['List Year', 'Town', 'Address']]\n",
    "\n",
    "\n",
    "# drop all rows with missing values\n",
    "df = df.dropna()\n",
    "\n",
    "# remove non alphabetic characters except spaces\n",
    "df['Address'] = df['Address'].str.replace('[^a-zA-Z\\s]', '')\n",
    "\n",
    "# remove leading and trailing spaces\n",
    "df['Address'] = df['Address'].str.strip()\n",
    "\n",
    "print(\"Number of rows remaining: \" + str(len(df.index)))\n",
    "print(\"Number of unique streets: \" + str(len(df['Address'].unique())))\n",
    "print(\"Number of unique towns: \" + str(len(df['Town'].unique())))\n",
    "\n",
    "# sort by year\n",
    "df = df.sort_values(by=['List Year'], ascending=False)\n",
    "\n",
    "base = 1.25\n",
    "\n",
    "df['utility'] = base**(df['List Year'] - df['List Year'].min()+1.0) + np.random.uniform(0, 10, len(df.index))   \n",
    "\n",
    "# sort df by utility\n",
    "df = df.sort_values(by=['utility'], ascending=False)\n",
    "# reset index\n",
    "df = df.reset_index(drop=True)\n",
    "\n",
    "# remove spaces in column names\n",
    "df.columns = df.columns.str.replace(' ', '')\n",
    "\n",
    "df.head()"
   ]
  },
  {
   "cell_type": "code",
   "execution_count": 3,
   "metadata": {},
   "outputs": [
    {
     "name": "stdout",
     "output_type": "stream",
     "text": [
      "k: 25\n"
     ]
    },
    {
     "data": {
      "text/plain": [
       "Town         Address            \n",
       "New Haven    QUINNIPIAC AVE         370\n",
       "Glastonbury  MAIN ST                355\n",
       "Stamford     STRAWBERRY HILL AVE    346\n",
       "Danbury      SOUTH ST               344\n",
       "Vernon       TALCOTTVILLE RD        342\n",
       "                                   ... \n",
       "Hartford     HILLSIDE AVE           136\n",
       "New Haven    WOODWARD AVE           135\n",
       "Suffield     MOUNTAIN RD            135\n",
       "Darien       WEST AVE               135\n",
       "Bridgeport   WILLIAM ST             135\n",
       "Length: 251, dtype: int64"
      ]
     },
     "execution_count": 3,
     "metadata": {},
     "output_type": "execute_result"
    }
   ],
   "source": [
    "start=10\n",
    "k = int(((370+135)/2)//ALPHA)\n",
    "print('k:', k)\n",
    "df.groupby(['Town',\t'Address']).size().sort_values(ascending=False).iloc[start:start+251]"
   ]
  },
  {
   "cell_type": "code",
   "execution_count": 4,
   "metadata": {},
   "outputs": [
    {
     "name": "stdout",
     "output_type": "stream",
     "text": [
      "Generated 250 queries\n",
      "Average position: 0.167585174725872\n",
      "Max position: 0.6643203411281217\n"
     ]
    },
    {
     "data": {
      "image/png": "[encoded data removed]",
      "text/plain": [
       "<Figure size 640x480 with 1 Axes>"
      ]
     },
     "metadata": {},
     "output_type": "display_data"
    }
   ],
   "source": [
    "# k=10\n",
    "n_queries = 250\n",
    "\n",
    "df_no_listyr  = df.drop(columns=['ListYear'])\n",
    "\n",
    "rg = RelationalGenerator(df_no_listyr)\n",
    "\n",
    "cat_columns = ['Town', 'Address']\n",
    "\n",
    "\n",
    "out = \"data/skipping_data_processed/Real_Estate/queries\"\n",
    "\n",
    "cleanup(out)\n",
    "\n",
    "# rg.generate_queries(cat_columns, k, n_queries, out, 0.5, 0.4)\n",
    "rg.generate_queries(cat_columns, k, n_queries, out, 0.6, 0.5, start = start)"
   ]
  },
  {
   "cell_type": "code",
   "execution_count": 5,
   "metadata": {},
   "outputs": [
    {
     "data": {
      "text/plain": [
       "Text(0, 0.5, 'Utility')"
      ]
     },
     "execution_count": 5,
     "metadata": {},
     "output_type": "execute_result"
    },
    {
     "data": {
      "image/png": "[encoded data removed]",
      "text/plain": [
       "<Figure size 640x480 with 1 Axes>"
      ]
     },
     "metadata": {},
     "output_type": "display_data"
    }
   ],
   "source": [
    "# load utilities \n",
    "utils = np.load(\"data/skipping_data_processed/Real_Estate/utilities.npy\")\n",
    "# plot utility vs index\n",
    "plt.plot([i/len(utils) for i in list(range(0, len(utils)))], utils)\n",
    "plt.xlabel(\"Index\")\n",
    "plt.ylabel(\"Utility\")"
   ]
  },
  {
   "cell_type": "code",
   "execution_count": 6,
   "metadata": {},
   "outputs": [],
   "source": [
    "\n",
    "\n",
    "# rg_size = 500\n",
    "# rg_size = 2500\n",
    "rg_size = 2000\n",
    "# rg_size = 1000\n",
    "\n",
    "# save utilities to numpy array\n",
    "np.save('data/skipping_data_processed/Real_Estate/utilities/utilities.npy', df['utility'].to_numpy())\n",
    "\n",
    "# remove utility and listyear columns\n",
    "df = df.drop(columns=['utility', 'ListYear'])\n",
    "\n",
    "# write to parquet with row group size rg_size\n",
    "pq.write_table(pa.Table.from_pandas(df), 'data/skipping_data_processed/Real_Estate/parquet/Real_Estate_Sales_2001-2020.parquet', row_group_size=rg_size)"
   ]
  },
  {
   "cell_type": "markdown",
   "metadata": {},
   "source": [
    "# Electric vehicles\n",
    "Clean and generate queries\n"
   ]
  },
  {
   "cell_type": "code",
   "execution_count": 7,
   "metadata": {},
   "outputs": [
    {
     "data": {
      "text/html": [
       "<div>\n",
       "<style scoped>\n",
       "    .dataframe tbody tr th:only-of-type {\n",
       "        vertical-align: middle;\n",
       "    }\n",
       "\n",
       "    .dataframe tbody tr th {\n",
       "        vertical-align: top;\n",
       "    }\n",
       "\n",
       "    .dataframe thead th {\n",
       "        text-align: right;\n",
       "    }\n",
       "</style>\n",
       "<table border=\"1\" class=\"dataframe\">\n",
       "  <thead>\n",
       "    <tr style=\"text-align: right;\">\n",
       "      <th></th>\n",
       "      <th>County</th>\n",
       "      <th>City</th>\n",
       "      <th>Postal Code</th>\n",
       "      <th>Model Year</th>\n",
       "      <th>Make</th>\n",
       "      <th>Model</th>\n",
       "      <th>Legislative District</th>\n",
       "      <th>utility</th>\n",
       "    </tr>\n",
       "  </thead>\n",
       "  <tbody>\n",
       "    <tr>\n",
       "      <th>0</th>\n",
       "      <td>Pierce</td>\n",
       "      <td>Graham</td>\n",
       "      <td>98338</td>\n",
       "      <td>2024</td>\n",
       "      <td>JEEP</td>\n",
       "      <td>WRANGLER</td>\n",
       "      <td>2</td>\n",
       "      <td>112.959684</td>\n",
       "    </tr>\n",
       "    <tr>\n",
       "      <th>1</th>\n",
       "      <td>Lewis</td>\n",
       "      <td>Centralia</td>\n",
       "      <td>98531</td>\n",
       "      <td>2024</td>\n",
       "      <td>JEEP</td>\n",
       "      <td>WRANGLER</td>\n",
       "      <td>20</td>\n",
       "      <td>112.951644</td>\n",
       "    </tr>\n",
       "    <tr>\n",
       "      <th>2</th>\n",
       "      <td>Snohomish</td>\n",
       "      <td>Lynnwood</td>\n",
       "      <td>98036</td>\n",
       "      <td>2024</td>\n",
       "      <td>BMW</td>\n",
       "      <td>I7</td>\n",
       "      <td>32</td>\n",
       "      <td>112.943459</td>\n",
       "    </tr>\n",
       "    <tr>\n",
       "      <th>3</th>\n",
       "      <td>King</td>\n",
       "      <td>Sammamish</td>\n",
       "      <td>98075</td>\n",
       "      <td>2024</td>\n",
       "      <td>MAZDA</td>\n",
       "      <td>CX-90</td>\n",
       "      <td>41</td>\n",
       "      <td>112.939003</td>\n",
       "    </tr>\n",
       "    <tr>\n",
       "      <th>4</th>\n",
       "      <td>King</td>\n",
       "      <td>Bellevue</td>\n",
       "      <td>98004</td>\n",
       "      <td>2024</td>\n",
       "      <td>BMW</td>\n",
       "      <td>X5</td>\n",
       "      <td>48</td>\n",
       "      <td>112.935277</td>\n",
       "    </tr>\n",
       "  </tbody>\n",
       "</table>\n",
       "</div>"
      ],
      "text/plain": [
       "      County       City Postal Code  Model Year   Make     Model  \\\n",
       "0     Pierce     Graham       98338        2024   JEEP  WRANGLER   \n",
       "1      Lewis  Centralia       98531        2024   JEEP  WRANGLER   \n",
       "2  Snohomish   Lynnwood       98036        2024    BMW        I7   \n",
       "3       King  Sammamish       98075        2024  MAZDA     CX-90   \n",
       "4       King   Bellevue       98004        2024    BMW        X5   \n",
       "\n",
       "  Legislative District     utility  \n",
       "0                    2  112.959684  \n",
       "1                   20  112.951644  \n",
       "2                   32  112.943459  \n",
       "3                   41  112.939003  \n",
       "4                   48  112.935277  "
      ]
     },
     "execution_count": 7,
     "metadata": {},
     "output_type": "execute_result"
    }
   ],
   "source": [
    "df = pd.read_csv('data/skipping_data_raw/Electric_Vehicle_Population_Data.csv')\n",
    "\n",
    "df = df[['County', 'City', 'Postal Code', 'Model Year' ,'Make','Model', 'Legislative District']]\n",
    "\n",
    "df = df.dropna()\n",
    "\n",
    "# sort by model year\n",
    "df = df.sort_values(by=['Model Year'], ascending=False)\n",
    "\n",
    "base = 1.18\n",
    "\n",
    "df['utility'] = base**(df['Model Year'] - df['Model Year'].min()+1.0) + np.random.uniform(0, 10, len(df.index))\n",
    "\n",
    "# sort df by utility\n",
    "df = df.sort_values(by=['utility'], ascending=False)\n",
    "\n",
    "# reset index\n",
    "df = df.reset_index(drop=True)\n",
    "\n",
    "df['Legislative District'] = df['Legislative District'].astype(int).astype(str)\n",
    "df['Postal Code'] = df['Postal Code'].astype(int).astype(str)\n",
    "\n",
    "df.head()"
   ]
  },
  {
   "cell_type": "code",
   "execution_count": 8,
   "metadata": {},
   "outputs": [
    {
     "name": "stdout",
     "output_type": "stream",
     "text": [
      "k: 19\n"
     ]
    },
    {
     "data": {
      "text/plain": [
       "County     City          Postal Code  Model Year  Make       Model    Legislative District\n",
       "Snohomish  Bothell       98012        2023        TESLA      MODEL Y  1                       341\n",
       "                         98021        2023        TESLA      MODEL Y  1                       315\n",
       "King       Sammamish     98074        2023        TESLA      MODEL Y  45                      315\n",
       "                         98075        2023        TESLA      MODEL Y  41                      293\n",
       "           Tukwila       98188        2023        CHEVROLET  BOLT EV  11                      201\n",
       "                                                                                             ... \n",
       "Snohomish  Lake Stevens  98258        2021        TESLA      MODEL Y  44                       48\n",
       "           Everett       98208        2023        TESLA      MODEL 3  44                       48\n",
       "King       Seattle       98125        2021        TESLA      MODEL Y  46                       48\n",
       "           Woodinville   98072        2023        TESLA      MODEL 3  45                       48\n",
       "           Federal Way   98023        2023        TESLA      MODEL 3  30                       48\n",
       "Length: 251, dtype: int64"
      ]
     },
     "execution_count": 8,
     "metadata": {},
     "output_type": "execute_result"
    }
   ],
   "source": [
    "start = 5\n",
    "k = int(((341+48)/2)//ALPHA)\n",
    "print('k:', k)\n",
    "df.groupby(['County', 'City', 'Postal Code', 'Model Year' ,'Make','Model', 'Legislative District']).size().sort_values(ascending=False).iloc[start:start+251]\n"
   ]
  },
  {
   "cell_type": "code",
   "execution_count": 9,
   "metadata": {},
   "outputs": [],
   "source": [
    "# remove whitespaces frmo column names\n",
    "df.columns = df.columns.str.replace(' ', '')\n",
    "\n",
    "# k = 10\n",
    "n_queries = 250\n",
    "\n",
    "df_no_modelyr  = df.drop(columns=['ModelYear'])\n",
    "\n"
   ]
  },
  {
   "cell_type": "code",
   "execution_count": 10,
   "metadata": {},
   "outputs": [
    {
     "name": "stdout",
     "output_type": "stream",
     "text": [
      "Generated 250 queries\n",
      "Average position: 0.18265582862448276\n",
      "Max position: 0.7169094363521216\n"
     ]
    },
    {
     "data": {
      "image/png": "[encoded data removed]",
      "text/plain": [
       "<Figure size 640x480 with 1 Axes>"
      ]
     },
     "metadata": {},
     "output_type": "display_data"
    }
   ],
   "source": [
    "cat_columns = ['County', 'City', 'PostalCode', 'Make', 'Model', 'LegislativeDistrict']\n",
    "\n",
    "out = \"data/skipping_data_processed/Electric_Vehicles/queries\"\n",
    "\n",
    "cleanup(out)\n",
    "\n",
    "rg = RelationalGenerator(df_no_modelyr)\n",
    "\n",
    "# rg.generate_queries(cat_columns, k, n_queries, out, 0.5, 0.4)\n",
    "rg.generate_queries(cat_columns, k, n_queries, out, 0.6, 0.5, start=start)"
   ]
  },
  {
   "cell_type": "code",
   "execution_count": 11,
   "metadata": {},
   "outputs": [
    {
     "data": {
      "text/plain": [
       "Text(0, 0.5, 'Utility')"
      ]
     },
     "execution_count": 11,
     "metadata": {},
     "output_type": "execute_result"
    },
    {
     "data": {
      "image/png": "[encoded data removed]",
      "text/plain": [
       "<Figure size 640x480 with 1 Axes>"
      ]
     },
     "metadata": {},
     "output_type": "display_data"
    }
   ],
   "source": [
    "utils = np.load(\"data/skipping_data_processed/Electric_Vehicles/utilities/utilities.npy\")\n",
    "# plot utility vs index\n",
    "plt.plot([i/len(utils) for i in list(range(0, len(utils)))], utils)\n",
    "plt.xlabel(\"Index\")\n",
    "plt.ylabel(\"Utility\")\n"
   ]
  },
  {
   "cell_type": "code",
   "execution_count": 12,
   "metadata": {},
   "outputs": [],
   "source": [
    "rg_size = 350\n",
    "\n",
    "# save utilities to numpy array\n",
    "np.save('data/skipping_data_processed/Electric_Vehicles/utilities/utilities.npy', df['utility'].to_numpy())\n",
    "\n",
    "# remove utility and modelyear columns\n",
    "df = df.drop(columns=['utility', 'ModelYear'])\n",
    "\n",
    "# write to parquet with row group size rg_size\n",
    "pq.write_table(pa.Table.from_pandas(df), 'data/skipping_data_processed/Electric_Vehicles/parquet/Electric_Vehicle_Population_Data.parquet', row_group_size=rg_size)\n"
   ]
  },
  {
   "cell_type": "markdown",
   "metadata": {},
   "source": [
    "# NASA HTTP logs\n",
    "Cleaning and query generation"
   ]
  },
  {
   "cell_type": "code",
   "execution_count": 13,
   "metadata": {},
   "outputs": [
    {
     "name": "stdout",
     "output_type": "stream",
     "text": [
      "Line 613123 not added in file data/skipping_data_raw/NASA_access_log_Aug95\n",
      "Line 613508 not added in file data/skipping_data_raw/NASA_access_log_Aug95\n",
      "Line 829742 not added in file data/skipping_data_raw/NASA_access_log_Aug95\n",
      "Line 1437373 not added in file data/skipping_data_raw/NASA_access_log_Aug95\n",
      "Line 1516936 not added in file data/skipping_data_raw/NASA_access_log_Aug95\n",
      "Line 1530211 not added in file data/skipping_data_raw/NASA_access_log_Aug95\n",
      "Line 1538760 not added in file data/skipping_data_raw/NASA_access_log_Aug95\n",
      "Line 118894 not added in file data/skipping_data_raw/NASA_access_log_Jul95\n",
      "Line 118895 not added in file data/skipping_data_raw/NASA_access_log_Jul95\n",
      "Line 550847 not added in file data/skipping_data_raw/NASA_access_log_Jul95\n",
      "Line 1031344 not added in file data/skipping_data_raw/NASA_access_log_Jul95\n",
      "Line 1352887 not added in file data/skipping_data_raw/NASA_access_log_Jul95\n",
      "Line 1453988 not added in file data/skipping_data_raw/NASA_access_log_Jul95\n",
      "Line 1498504 not added in file data/skipping_data_raw/NASA_access_log_Jul95\n",
      "Line 1649383 not added in file data/skipping_data_raw/NASA_access_log_Jul95\n"
     ]
    }
   ],
   "source": [
    "raw_nasa_files = ['data/skipping_data_raw/NASA_access_log_Aug95', 'data/skipping_data_raw/NASA_access_log_Jul95']\n",
    "\n",
    "# detect encoding of files on first 1000 lines\n",
    "encoding_types = []\n",
    "for file in raw_nasa_files:\n",
    "    with open(file, 'rb') as f:\n",
    "        result = chardet.detect(f.read(10000))\n",
    "        encoding_types.append(result['encoding'])\n",
    "    \n",
    "assert encoding_types[0] == encoding_types[1], \"Files have different encodings\"\n",
    "\n",
    "# read in files with detected encoding\n",
    "lines = []\n",
    "for file in raw_nasa_files:\n",
    "    i = 0\n",
    "    with open(file, encoding=encoding_types[0]) as f:\n",
    "        while True:\n",
    "            try:\n",
    "                line = f.readline()\n",
    "                if not line:\n",
    "                    break\n",
    "                lines.append(line)\n",
    "            except:\n",
    "                print(\"Line {} not added in file {}\".format(i, file))\n",
    "            i += 1"
   ]
  },
  {
   "cell_type": "code",
   "execution_count": 14,
   "metadata": {},
   "outputs": [
    {
     "name": "stdout",
     "output_type": "stream",
     "text": [
      "Number of rows original: 3460463\n",
      "Number of rows remaining: 3452337\n"
     ]
    }
   ],
   "source": [
    "# split lines into columns\n",
    "lines = [line.split(' ') for line in lines]\n",
    "# create pandas dataframe from lines\n",
    "print(\"Number of rows original: \" + str(len(lines)))\n",
    "lines = [line for line in lines if len(line) == 10]\n",
    "print(\"Number of rows remaining: \" + str(len(lines)))\n",
    "df = pd.DataFrame(lines, columns=['Host', 'Junk1', 'Junk2', 'Timestamp', 'Junk3', 'RequestType', 'Asset', 'Junk4', 'Junk5', 'Junk6'])"
   ]
  },
  {
   "cell_type": "code",
   "execution_count": 15,
   "metadata": {},
   "outputs": [
    {
     "name": "stderr",
     "output_type": "stream",
     "text": [
      "/var/folders/q7/3yvrc6352t1c2bwlqpsvkzy80000gn/T/ipykernel_89653/554104093.py:5: FutureWarning: The default value of regex will change from True to False in a future version. In addition, single character regular expressions will *not* be treated as literal strings when regex=True.\n",
      "  df['Timestamp'] = df['Timestamp'].str.replace('[', '')\n"
     ]
    },
    {
     "data": {
      "text/html": [
       "<div>\n",
       "<style scoped>\n",
       "    .dataframe tbody tr th:only-of-type {\n",
       "        vertical-align: middle;\n",
       "    }\n",
       "\n",
       "    .dataframe tbody tr th {\n",
       "        vertical-align: top;\n",
       "    }\n",
       "\n",
       "    .dataframe thead th {\n",
       "        text-align: right;\n",
       "    }\n",
       "</style>\n",
       "<table border=\"1\" class=\"dataframe\">\n",
       "  <thead>\n",
       "    <tr style=\"text-align: right;\">\n",
       "      <th></th>\n",
       "      <th>Host</th>\n",
       "      <th>Timestamp</th>\n",
       "      <th>Asset</th>\n",
       "    </tr>\n",
       "  </thead>\n",
       "  <tbody>\n",
       "    <tr>\n",
       "      <th>0</th>\n",
       "      <td>in24.inetnebr.com</td>\n",
       "      <td>1995-08-01 00:00:01</td>\n",
       "      <td>/shuttle/missions/sts-68/news/sts-68-mcc-05.txt</td>\n",
       "    </tr>\n",
       "    <tr>\n",
       "      <th>1</th>\n",
       "      <td>uplherc.upl.com</td>\n",
       "      <td>1995-08-01 00:00:07</td>\n",
       "      <td>/</td>\n",
       "    </tr>\n",
       "    <tr>\n",
       "      <th>2</th>\n",
       "      <td>uplherc.upl.com</td>\n",
       "      <td>1995-08-01 00:00:08</td>\n",
       "      <td>/images/ksclogo-medium.gif</td>\n",
       "    </tr>\n",
       "    <tr>\n",
       "      <th>3</th>\n",
       "      <td>uplherc.upl.com</td>\n",
       "      <td>1995-08-01 00:00:08</td>\n",
       "      <td>/images/MOSAIC-logosmall.gif</td>\n",
       "    </tr>\n",
       "    <tr>\n",
       "      <th>4</th>\n",
       "      <td>uplherc.upl.com</td>\n",
       "      <td>1995-08-01 00:00:08</td>\n",
       "      <td>/images/USA-logosmall.gif</td>\n",
       "    </tr>\n",
       "  </tbody>\n",
       "</table>\n",
       "</div>"
      ],
      "text/plain": [
       "                Host           Timestamp  \\\n",
       "0  in24.inetnebr.com 1995-08-01 00:00:01   \n",
       "1    uplherc.upl.com 1995-08-01 00:00:07   \n",
       "2    uplherc.upl.com 1995-08-01 00:00:08   \n",
       "3    uplherc.upl.com 1995-08-01 00:00:08   \n",
       "4    uplherc.upl.com 1995-08-01 00:00:08   \n",
       "\n",
       "                                             Asset  \n",
       "0  /shuttle/missions/sts-68/news/sts-68-mcc-05.txt  \n",
       "1                                                /  \n",
       "2                       /images/ksclogo-medium.gif  \n",
       "3                     /images/MOSAIC-logosmall.gif  \n",
       "4                        /images/USA-logosmall.gif  "
      ]
     },
     "execution_count": 15,
     "metadata": {},
     "output_type": "execute_result"
    }
   ],
   "source": [
    "# drop rows with missing values\n",
    "df = df.dropna()\n",
    "\n",
    "# remove brackets from timestamp and convert to datetime\n",
    "df['Timestamp'] = df['Timestamp'].str.replace('[', '')\n",
    "df['Timestamp'] = pd.to_datetime(df['Timestamp'], format='%d/%b/%Y:%H:%M:%S')\n",
    "\n",
    "# remove quote from request type\n",
    "df['RequestType'] = df['RequestType'].str.replace('\"', '')\n",
    "\n",
    "# remove all columns with name starting with Junk\n",
    "df = df[df.columns.drop(list(df.filter(regex='Junk')))]\n",
    "# drop request type column\n",
    "df = df.drop(columns=['RequestType'])\n",
    "\n",
    "df.head()"
   ]
  },
  {
   "cell_type": "code",
   "execution_count": 16,
   "metadata": {},
   "outputs": [
    {
     "name": "stdout",
     "output_type": "stream",
     "text": [
      "k: 257\n"
     ]
    },
    {
     "data": {
      "text/plain": [
       "Asset\n",
       "/shuttle/missions/sts-70/movies/woodpecker.mpg          4110\n",
       "/shuttle/resources/orbiters/discovery-logo.gif          4086\n",
       "/whats-new.html                                         4035\n",
       "/history/apollo/apollo-13/images/                       4019\n",
       "/icons/movie.xbm                                        4006\n",
       "                                                        ... \n",
       "/facilities/crawler.html                                1055\n",
       "/shuttle/missions/sts-70/images/KSC-95EC-0768.jpg       1054\n",
       "/software/winvn/userguide/winvnsm.gif                   1049\n",
       "/shuttle/missions/sts-70/images/woodpecker-on-et.gif    1044\n",
       "/shuttle/missions/sts-71/images/KSC-95EC-0916.gif       1042\n",
       "Length: 251, dtype: int64"
      ]
     },
     "execution_count": 16,
     "metadata": {},
     "output_type": "execute_result"
    }
   ],
   "source": [
    "# check grouoby of host and asset\n",
    "start = 100\n",
    "k = int(((4110+1042)/2)//ALPHA)\n",
    "print('k:', k)\n",
    "df.groupby(['Asset']).size().sort_values(ascending=False).iloc[start:start+251]"
   ]
  },
  {
   "cell_type": "code",
   "execution_count": 17,
   "metadata": {},
   "outputs": [],
   "source": [
    "# generate utilities\n",
    "base = 1.075\n",
    "df['utility'] = base**((df['Timestamp'] - df['Timestamp'].min()).dt.days+1.0) + np.random.uniform(0, 10, len(df.index))\n",
    "\n",
    "\n",
    "# sort df by utility\n",
    "df = df.sort_values(by=['utility'], ascending=False)\n",
    "\n",
    "# reset index\n",
    "df = df.reset_index(drop=True)\n",
    "\n",
    "df_no_timestamp  = df.drop(columns=['Timestamp', 'Host'])"
   ]
  },
  {
   "cell_type": "code",
   "execution_count": 18,
   "metadata": {},
   "outputs": [],
   "source": [
    "# k = 100\n",
    "n_queries = 250\n",
    "\n",
    "cat_columns = ['Asset']\n",
    "\n",
    "out = \"data/skipping_data_processed/Nasa/queries\"\n",
    "\n"
   ]
  },
  {
   "cell_type": "code",
   "execution_count": 19,
   "metadata": {},
   "outputs": [
    {
     "name": "stdout",
     "output_type": "stream",
     "text": [
      "Generated 250 queries\n",
      "Average position: 0.19229225767936328\n",
      "Max position: 0.5764660286640615\n"
     ]
    },
    {
     "data": {
      "image/png": "[encoded data removed]",
      "text/plain": [
       "<Figure size 640x480 with 1 Axes>"
      ]
     },
     "metadata": {},
     "output_type": "display_data"
    }
   ],
   "source": [
    "cleanup(out)\n",
    "rg = RelationalGenerator(df_no_timestamp)\n",
    "\n",
    "# rg.generate_queries(cat_columns, k, n_queries, out, 0.5, 0.4, start = 100)\n",
    "rg.generate_queries(cat_columns, k, n_queries, out, 0.6, 0.5, start = start)"
   ]
  },
  {
   "cell_type": "code",
   "execution_count": 20,
   "metadata": {},
   "outputs": [
    {
     "data": {
      "text/plain": [
       "Text(0, 0.5, 'Utility')"
      ]
     },
     "execution_count": 20,
     "metadata": {},
     "output_type": "execute_result"
    },
    {
     "data": {
      "image/png": "[encoded data removed]",
      "text/plain": [
       "<Figure size 640x480 with 1 Axes>"
      ]
     },
     "metadata": {},
     "output_type": "display_data"
    }
   ],
   "source": [
    "# load utilities\n",
    "utils = np.load(\"data/skipping_data_processed/Nasa/utilities/utilities.npy\")\n",
    "# plot utility vs index\n",
    "plt.plot([i/len(utils) for i in list(range(0, len(utils)))], utils)\n",
    "plt.xlabel(\"Index\")\n",
    "plt.ylabel(\"Utility\")"
   ]
  },
  {
   "cell_type": "code",
   "execution_count": 21,
   "metadata": {},
   "outputs": [],
   "source": [
    "rg_size = 2500\n",
    "\n",
    "# save utilities to numpy array\n",
    "np.save('data/skipping_data_processed/Nasa/utilities/utilities.npy', df['utility'].to_numpy())\n",
    "\n",
    "# remove utility and timestamp columns\n",
    "df = df.drop(columns=['utility', 'Timestamp', 'Host'])\n",
    "\n",
    "# write to parquet with row group size rg_size\n",
    "pq.write_table(pa.Table.from_pandas(df), 'data/skipping_data_processed/Nasa/parquet/Nasa.parquet', row_group_size=rg_size)"
   ]
  },
  {
   "cell_type": "code",
   "execution_count": 22,
   "metadata": {},
   "outputs": [
    {
     "name": "stdout",
     "output_type": "stream",
     "text": [
      "Number of columns in Real_Estate_Sales_2001-2020.parquet: 2\n",
      "Number of rows in Real_Estate_Sales_2001-2020.parquet: 997162\n",
      "Number of columns in Electric_Vehicle_Population_Data.parquet: 6\n",
      "Number of rows in Electric_Vehicle_Population_Data.parquet: 162637\n",
      "Number of columns in Nasa.parquet: 1\n",
      "Number of rows in Nasa.parquet: 3452337\n"
     ]
    }
   ],
   "source": [
    "# load in the parquet file for each dataset and check the number of columns and row groups\n",
    "# for each dataset\n",
    "for path in ['data/skipping_data_processed/Real_Estate/parquet/Real_Estate_Sales_2001-2020.parquet', 'data/skipping_data_processed/Electric_Vehicles/parquet/Electric_Vehicle_Population_Data.parquet', 'data/skipping_data_processed/Nasa/parquet/Nasa.parquet']:\n",
    "    # read in parquet file\n",
    "    table = pq.read_table(path)\n",
    "    # get number of columns\n",
    "    print(\"Number of columns in {}: {}\".format(path.split('/')[-1], table.num_columns))\n",
    "    print(\"Number of rows in {}: {}\".format(path.split('/')[-1], table.num_rows))"
   ]
  }
 ],
 "metadata": {
  "kernelspec": {
   "display_name": "Python 3",
   "language": "python",
   "name": "python3"
  },
  "language_info": {
   "codemirror_mode": {
    "name": "ipython",
    "version": 3
   },
   "file_extension": ".py",
   "mimetype": "text/x-python",
   "name": "python",
   "nbconvert_exporter": "python",
   "pygments_lexer": "ipython3",
   "version": "3.10.4"
  }
 },
 "nbformat": 4,
 "nbformat_minor": 2
}
